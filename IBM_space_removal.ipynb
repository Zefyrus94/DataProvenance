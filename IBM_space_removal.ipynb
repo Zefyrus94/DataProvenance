{
 "cells": [
  {
   "cell_type": "code",
   "execution_count": 1,
   "metadata": {},
   "outputs": [],
   "source": [
    "import pandas as pd\n",
    "import numpy as np\n",
    "import time"
   ]
  },
  {
   "cell_type": "code",
   "execution_count": 2,
   "metadata": {},
   "outputs": [],
   "source": [
    "from provlake.prov_lake import ProvLake\n",
    "from provlake.prov_task import ProvTask"
   ]
  },
  {
   "cell_type": "code",
   "execution_count": 3,
   "metadata": {},
   "outputs": [
    {
     "name": "stdout",
     "output_type": "stream",
     "text": [
      "IN - Rows:  32561  Features:  15\n"
     ]
    }
   ],
   "source": [
    "# Files get loaded from fairCorrect github repository\n",
    "url = 'https://raw.githubusercontent.com/vladoxNCL/fairCorrect/master/Datasets/'\n",
    "# Get balancing feature to end column\n",
    "df = pd.read_csv(url + 'adult.data', header=None)\n",
    "\n",
    "m, n= df.shape\n",
    "print(\"IN - Rows: \", m, \" Features: \",n)\n",
    "\n",
    "# Assign names to columns\n",
    "names = ['age', 'workclass', 'fnlwgt', 'education', 'education-num', 'marital-status',\n",
    "         'occupation', 'relationship', 'race', 'sex', 'capital-gain',\n",
    "         'capital-loss', 'hours-per-week', 'native-country', 'label']\n",
    "\n",
    "df.columns = names\n",
    "df=df[:5]"
   ]
  },
  {
   "cell_type": "code",
   "execution_count": 7,
   "metadata": {},
   "outputs": [],
   "source": [
    "#eseguire un'istanza di api.py per far sì che le informazioni vengano memorizzate su MongoDB\n",
    "#OPERATION 0\n",
    "# Cleanup names from spaces\n",
    "col = ['workclass']\n",
    "#col = ['workclass', 'sex', 'label']\n",
    "prov = ProvLake(online=True, should_log_to_file=True)#,bag_size=5\n",
    "for c in col:\n",
    "    in_args={\"input\": df[c].to_json()}\n",
    "    #print(\"input:\\n\"+df[c].to_json())\n",
    "    with ProvTask(prov, \"remove spaces\", in_args) as prov_task:\n",
    "        df[c] = df[c].map(str.strip)    \n",
    "        out_args = {\"output\": df[c].to_json()}\n",
    "        #time.sleep(2)#per controllare se influisce sullo start-time registrato: non influisce\n",
    "        prov_task.output(out_args)\n",
    "        #print(\"\\noutput:\\n\"+df[c].to_json())\n",
    "prov.close()\n",
    "#exit(1)"
   ]
  },
  {
   "cell_type": "code",
   "execution_count": null,
   "metadata": {},
   "outputs": [],
   "source": []
  },
  {
   "cell_type": "code",
   "execution_count": null,
   "metadata": {},
   "outputs": [],
   "source": []
  }
 ],
 "metadata": {
  "kernelspec": {
   "display_name": "Python 3",
   "language": "python",
   "name": "python3"
  },
  "language_info": {
   "codemirror_mode": {
    "name": "ipython",
    "version": 3
   },
   "file_extension": ".py",
   "mimetype": "text/x-python",
   "name": "python",
   "nbconvert_exporter": "python",
   "pygments_lexer": "ipython3",
   "version": "3.7.0"
  }
 },
 "nbformat": 4,
 "nbformat_minor": 4
}
